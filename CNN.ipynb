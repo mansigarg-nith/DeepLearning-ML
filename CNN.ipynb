{
 "cells": [
  {
   "cell_type": "code",
   "execution_count": 1,
   "metadata": {},
   "outputs": [],
   "source": [
    "import tensorflow as tf"
   ]
  },
  {
   "cell_type": "code",
   "execution_count": 2,
   "metadata": {},
   "outputs": [],
   "source": [
    "from tensorflow.keras.preprocessing.image import ImageDataGenerator "
   ]
  },
  {
   "cell_type": "code",
   "execution_count": 3,
   "metadata": {},
   "outputs": [
    {
     "name": "stdout",
     "output_type": "stream",
     "text": [
      "Found 8000 images belonging to 2 classes.\n"
     ]
    }
   ],
   "source": [
    "# training set preprocessing\n",
    "train_datagen = ImageDataGenerator(\n",
    "                rescale = 1/255,\n",
    "                shear_range = 0.2,\n",
    "                zoom_range = 0.2,\n",
    "                horizontal_flip = True\n",
    "                )\n",
    "training_set = train_datagen.flow_from_directory(\n",
    "               r'C:\\Users\\HP\\Downloads\\CNN_dataset\\Section 40 - Convolutional Neural Networks (CNN)\\dataset\\training_set',\n",
    "               target_size = (64,64),\n",
    "               batch_size = 32,\n",
    "               class_mode = 'binary'\n",
    "               ) "
   ]
  },
  {
   "cell_type": "code",
   "execution_count": 4,
   "metadata": {},
   "outputs": [
    {
     "name": "stdout",
     "output_type": "stream",
     "text": [
      "Found 2000 images belonging to 2 classes.\n"
     ]
    }
   ],
   "source": [
    "# test set preprocessing\n",
    "test_datagen = ImageDataGenerator(rescale = 1/255)\n",
    "test_set = test_datagen.flow_from_directory(\n",
    "            r'C:\\Users\\HP\\Downloads\\CNN_dataset\\Section 40 - Convolutional Neural Networks (CNN)\\dataset\\test_set',\n",
    "            target_size = (64,64),\n",
    "            batch_size = 32,\n",
    "            class_mode = 'binary'\n",
    "            )"
   ]
  },
  {
   "cell_type": "code",
   "execution_count": 5,
   "metadata": {},
   "outputs": [],
   "source": [
    "# initialize cnn\n",
    "cnn = tf.keras.models.Sequential()"
   ]
  },
  {
   "cell_type": "code",
   "execution_count": 6,
   "metadata": {},
   "outputs": [],
   "source": [
    "# add first convolution layer\n",
    "cnn.add(tf.keras.layers.Conv2D(filters = 32, kernel_size = 3, activation = 'relu', input_shape = [64,64,3]))"
   ]
  },
  {
   "cell_type": "code",
   "execution_count": 7,
   "metadata": {},
   "outputs": [],
   "source": [
    "# add pooling layer\n",
    "cnn.add(tf.keras.layers.MaxPool2D(pool_size = 2, strides = 2))"
   ]
  },
  {
   "cell_type": "code",
   "execution_count": 8,
   "metadata": {},
   "outputs": [],
   "source": [
    "# add secind convolution layer\n",
    "cnn.add(tf.keras.layers.Conv2D(filters = 32, kernel_size = 3, activation = 'relu', input_shape = [64,64,3]))"
   ]
  },
  {
   "cell_type": "code",
   "execution_count": 9,
   "metadata": {},
   "outputs": [],
   "source": [
    "# flattening\n",
    "cnn.add(tf.keras.layers.Flatten())"
   ]
  },
  {
   "cell_type": "code",
   "execution_count": 10,
   "metadata": {},
   "outputs": [],
   "source": [
    "# add fully connected layer\n",
    "cnn.add(tf.keras.layers.Dense(units = 32, activation = 'relu'))"
   ]
  },
  {
   "cell_type": "code",
   "execution_count": 11,
   "metadata": {},
   "outputs": [],
   "source": [
    "# add output layer\n",
    "cnn.add(tf.keras.layers.Dense(units = 1, activation = 'sigmoid'))"
   ]
  },
  {
   "cell_type": "code",
   "execution_count": 14,
   "metadata": {},
   "outputs": [],
   "source": [
    "# compile the cnn\n",
    "cnn.compile(optimizer = 'adam', loss = 'binary_crossentropy', metrics = ['accuracy'])"
   ]
  },
  {
   "cell_type": "code",
   "execution_count": 15,
   "metadata": {},
   "outputs": [
    {
     "name": "stdout",
     "output_type": "stream",
     "text": [
      "Epoch 1/25\n",
      "250/250 [==============================] - 208s 826ms/step - loss: 0.7138 - accuracy: 0.4918 - val_loss: 0.6931 - val_accuracy: 0.5000\n",
      "Epoch 2/25\n",
      "250/250 [==============================] - 76s 305ms/step - loss: 0.6932 - accuracy: 0.4871 - val_loss: 0.6931 - val_accuracy: 0.5000\n",
      "Epoch 3/25\n",
      "250/250 [==============================] - 78s 310ms/step - loss: 0.6932 - accuracy: 0.4885 - val_loss: 0.6931 - val_accuracy: 0.5000\n",
      "Epoch 4/25\n",
      "250/250 [==============================] - 76s 305ms/step - loss: 0.6932 - accuracy: 0.4939 - val_loss: 0.6931 - val_accuracy: 0.5000\n",
      "Epoch 5/25\n",
      "250/250 [==============================] - 76s 306ms/step - loss: 0.6932 - accuracy: 0.4877 - val_loss: 0.6931 - val_accuracy: 0.5000\n",
      "Epoch 6/25\n",
      "250/250 [==============================] - 78s 313ms/step - loss: 0.6932 - accuracy: 0.4929 - val_loss: 0.6929 - val_accuracy: 0.5055\n",
      "Epoch 7/25\n",
      "250/250 [==============================] - 77s 306ms/step - loss: 0.6924 - accuracy: 0.5122 - val_loss: 0.6826 - val_accuracy: 0.5830\n",
      "Epoch 8/25\n",
      "250/250 [==============================] - 77s 309ms/step - loss: 0.6772 - accuracy: 0.5813 - val_loss: 0.6562 - val_accuracy: 0.6130\n",
      "Epoch 9/25\n",
      "250/250 [==============================] - 77s 307ms/step - loss: 0.6447 - accuracy: 0.6272 - val_loss: 0.6167 - val_accuracy: 0.6675\n",
      "Epoch 10/25\n",
      "250/250 [==============================] - 77s 307ms/step - loss: 0.5932 - accuracy: 0.6716 - val_loss: 0.6039 - val_accuracy: 0.6655\n",
      "Epoch 11/25\n",
      "250/250 [==============================] - 75s 302ms/step - loss: 0.5717 - accuracy: 0.7030 - val_loss: 0.5479 - val_accuracy: 0.7340\n",
      "Epoch 12/25\n",
      "250/250 [==============================] - 77s 309ms/step - loss: 0.5387 - accuracy: 0.7286 - val_loss: 0.5371 - val_accuracy: 0.7375\n",
      "Epoch 13/25\n",
      "250/250 [==============================] - 79s 316ms/step - loss: 0.5307 - accuracy: 0.7333 - val_loss: 0.5302 - val_accuracy: 0.7340\n",
      "Epoch 14/25\n",
      "250/250 [==============================] - 77s 307ms/step - loss: 0.5199 - accuracy: 0.7373 - val_loss: 0.5233 - val_accuracy: 0.7380\n",
      "Epoch 15/25\n",
      "250/250 [==============================] - 78s 311ms/step - loss: 0.5250 - accuracy: 0.7357 - val_loss: 0.5515 - val_accuracy: 0.7190\n",
      "Epoch 16/25\n",
      "250/250 [==============================] - 86s 342ms/step - loss: 0.4939 - accuracy: 0.7618 - val_loss: 0.4981 - val_accuracy: 0.7580\n",
      "Epoch 17/25\n",
      "250/250 [==============================] - 90s 361ms/step - loss: 0.4822 - accuracy: 0.7611 - val_loss: 0.4896 - val_accuracy: 0.7725\n",
      "Epoch 18/25\n",
      "250/250 [==============================] - 93s 372ms/step - loss: 0.4823 - accuracy: 0.7639 - val_loss: 0.4779 - val_accuracy: 0.7765\n",
      "Epoch 19/25\n",
      "250/250 [==============================] - 92s 369ms/step - loss: 0.4702 - accuracy: 0.7795 - val_loss: 0.5059 - val_accuracy: 0.7555\n",
      "Epoch 20/25\n",
      "250/250 [==============================] - 91s 364ms/step - loss: 0.4816 - accuracy: 0.7676 - val_loss: 0.4775 - val_accuracy: 0.7800\n",
      "Epoch 21/25\n",
      "250/250 [==============================] - 89s 356ms/step - loss: 0.4640 - accuracy: 0.7817 - val_loss: 0.4655 - val_accuracy: 0.7795\n",
      "Epoch 22/25\n",
      "250/250 [==============================] - 78s 311ms/step - loss: 0.4457 - accuracy: 0.7889 - val_loss: 0.4984 - val_accuracy: 0.7635\n",
      "Epoch 23/25\n",
      "250/250 [==============================] - 77s 310ms/step - loss: 0.4305 - accuracy: 0.7997 - val_loss: 0.4801 - val_accuracy: 0.7820\n",
      "Epoch 24/25\n",
      "250/250 [==============================] - 77s 309ms/step - loss: 0.4287 - accuracy: 0.7983 - val_loss: 0.4715 - val_accuracy: 0.7880\n",
      "Epoch 25/25\n",
      "250/250 [==============================] - 78s 311ms/step - loss: 0.4225 - accuracy: 0.8008 - val_loss: 0.4780 - val_accuracy: 0.7870\n"
     ]
    },
    {
     "data": {
      "text/plain": [
       "<tensorflow.python.keras.callbacks.History at 0x2a01354c0a0>"
      ]
     },
     "execution_count": 15,
     "metadata": {},
     "output_type": "execute_result"
    }
   ],
   "source": [
    "# train the cnn\n",
    "cnn.fit(x = training_set, validation_data = test_set, epochs = 25)"
   ]
  },
  {
   "cell_type": "code",
   "execution_count": 27,
   "metadata": {},
   "outputs": [
    {
     "data": {
      "text/plain": [
       "{'cats': 0, 'dogs': 1}"
      ]
     },
     "execution_count": 27,
     "metadata": {},
     "output_type": "execute_result"
    }
   ],
   "source": [
    "import numpy as np\n",
    "from tensorflow.keras.preprocessing import image\n",
    "test_image = image.load_img(r'C:\\Users\\HP\\Downloads\\CNN_dataset\\Section 40 - Convolutional Neural Networks (CNN)\\dataset\\single_prediction\\cat_or_dog_1.jpg', target_size = (64,64))\n",
    "test_image = image.img_to_array(test_image)\n",
    "test_image = np.expand_dims(test_image, axis=0)\n",
    "result = cnn.predict(test_image)\n",
    "training_set.class_indices"
   ]
  },
  {
   "cell_type": "code",
   "execution_count": 28,
   "metadata": {},
   "outputs": [
    {
     "name": "stdout",
     "output_type": "stream",
     "text": [
      "dog\n"
     ]
    }
   ],
   "source": [
    "if(result[0][0]==0):\n",
    "    prediction = 'cat'\n",
    "else:\n",
    "    prediction = 'dog'\n",
    "print(prediction)"
   ]
  },
  {
   "cell_type": "code",
   "execution_count": 29,
   "metadata": {},
   "outputs": [
    {
     "name": "stdout",
     "output_type": "stream",
     "text": [
      "cat\n"
     ]
    }
   ],
   "source": [
    "import numpy as np\n",
    "from tensorflow.keras.preprocessing import image\n",
    "test_image = image.load_img(r'C:\\Users\\HP\\Downloads\\CNN_dataset\\Section 40 - Convolutional Neural Networks (CNN)\\dataset\\single_prediction\\cat_or_dog_2.jpg', target_size = (64,64))\n",
    "test_image = image.img_to_array(test_image)\n",
    "test_image = np.expand_dims(test_image, axis=0)\n",
    "result = cnn.predict(test_image)\n",
    "if(result[0][0]==0):\n",
    "    prediction = 'cat'\n",
    "else:\n",
    "    prediction = 'dog'\n",
    "print(prediction)"
   ]
  },
  {
   "cell_type": "code",
   "execution_count": null,
   "metadata": {},
   "outputs": [],
   "source": []
  }
 ],
 "metadata": {
  "kernelspec": {
   "display_name": "Python 3",
   "language": "python",
   "name": "python3"
  },
  "language_info": {
   "codemirror_mode": {
    "name": "ipython",
    "version": 3
   },
   "file_extension": ".py",
   "mimetype": "text/x-python",
   "name": "python",
   "nbconvert_exporter": "python",
   "pygments_lexer": "ipython3",
   "version": "3.8.5"
  }
 },
 "nbformat": 4,
 "nbformat_minor": 4
}
